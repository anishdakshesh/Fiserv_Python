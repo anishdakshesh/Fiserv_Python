{
  "nbformat": 4,
  "nbformat_minor": 0,
  "metadata": {
    "colab": {
      "provenance": [],
      "authorship_tag": "ABX9TyOl05Tzsf39SckybGbs4ysn",
      "include_colab_link": true
    },
    "kernelspec": {
      "name": "python3",
      "display_name": "Python 3"
    },
    "language_info": {
      "name": "python"
    }
  },
  "cells": [
    {
      "cell_type": "markdown",
      "metadata": {
        "id": "view-in-github",
        "colab_type": "text"
      },
      "source": [
        "<a href=\"https://colab.research.google.com/github/anishdakshesh/Fiserv_Python/blob/main/Assignment_1.ipynb\" target=\"_parent\"><img src=\"https://colab.research.google.com/assets/colab-badge.svg\" alt=\"Open In Colab\"/></a>"
      ]
    },
    {
      "cell_type": "code",
      "execution_count": null,
      "metadata": {
        "colab": {
          "base_uri": "https://localhost:8080/"
        },
        "id": "ZJz-IsO2OUvL",
        "outputId": "51bd20bc-79c8-4d78-af35-46d95abdeab4"
      },
      "outputs": [
        {
          "output_type": "stream",
          "name": "stdout",
          "text": [
            "Hello, world\n",
            "spam spam spam \n"
          ]
        }
      ],
      "source": [
        "print(\"Hello, world\")\n",
        "s='spam '\n",
        "print(s*3)"
      ]
    },
    {
      "cell_type": "code",
      "source": [
        "name = \"john jacob jingleheimer schmidt\"\n",
        "print(name)\n",
        "print(name.upper())\n",
        "print(name.title())\n",
        "print(name.count('j'))\n",
        "print(len(name))\n",
        "print(name.find(\"jacob\"))\n"
      ],
      "metadata": {
        "colab": {
          "base_uri": "https://localhost:8080/"
        },
        "id": "bPWBIehcOpn9",
        "outputId": "1e6f3904-3f89-4625-e269-1cd9cf733ee0"
      },
      "execution_count": null,
      "outputs": [
        {
          "output_type": "stream",
          "name": "stdout",
          "text": [
            "john jacob jingleheimer schmidt\n",
            "JOHN JACOB JINGLEHEIMER SCHMIDT\n",
            "John Jacob Jingleheimer Schmidt\n",
            "3\n",
            "31\n",
            "5\n"
          ]
        }
      ]
    },
    {
      "cell_type": "code",
      "source": [
        "celsius = float(input(\"Enter temperature in Celsius: \"))\n",
        "fahrenheit = ((9 * celsius) / 5) + 32\n",
        "print(\"Temperature in Fahrenheit:\", fahrenheit)"
      ],
      "metadata": {
        "colab": {
          "base_uri": "https://localhost:8080/"
        },
        "id": "s26lLQdqPDdm",
        "outputId": "7334ee14-38c0-46a1-c5c4-d2f1023864f6"
      },
      "execution_count": null,
      "outputs": [
        {
          "output_type": "stream",
          "name": "stdout",
          "text": [
            "Enter temperature in Celsius: 32\n",
            "Temperature in Fahrenheit: 89.6\n"
          ]
        }
      ]
    },
    {
      "cell_type": "code",
      "source": [
        "while True:\n",
        "    user_input = input(\"Enter temperature in Celsius ('q' to quit): \")\n",
        "    if user_input == \"q\":\n",
        "        break\n",
        "    elif user_input == \"\":\n",
        "        continue\n",
        "    celsius = float(user_input)\n",
        "    fahrenheit = ((9 * celsius) / 5) + 32\n",
        "    print(\"Temperature in Fahrenheit:\", fahrenheit)\n"
      ],
      "metadata": {
        "colab": {
          "base_uri": "https://localhost:8080/"
        },
        "id": "O1HtObuJPjql",
        "outputId": "97759565-b7d6-4b13-c59f-2ea8164bf420"
      },
      "execution_count": null,
      "outputs": [
        {
          "name": "stdout",
          "output_type": "stream",
          "text": [
            "Enter temperature in Celsius ('q' to quit): 26\n",
            "Temperature in Fahrenheit: 78.8\n",
            "Enter temperature in Celsius ('q' to quit): q\n"
          ]
        }
      ]
    },
    {
      "cell_type": "code",
      "source": [
        "MAXVAL = 26\n",
        "MINVAL = 0\n",
        "\n",
        "while True:\n",
        "    GUESS = (MAXVAL + MINVAL) // 2\n",
        "    answer = input(f\"Is your guess {GUESS}? (y/h/l): \")\n",
        "\n",
        "    if answer == \"y\":\n",
        "        print(\"I got it!\")\n",
        "        break\n",
        "    elif answer == \"h\":\n",
        "        MAXVAL = GUESS\n",
        "    elif answer == \"l\":\n",
        "        MINVAL = GUESS\n"
      ],
      "metadata": {
        "colab": {
          "base_uri": "https://localhost:8080/"
        },
        "id": "SzhkQdDWQY7j",
        "outputId": "7f497bfe-69ae-466e-8b31-6c77f1217326"
      },
      "execution_count": null,
      "outputs": [
        {
          "output_type": "stream",
          "name": "stdout",
          "text": [
            "Is your guess 13? (y/h/l): y\n",
            "I got it!\n"
          ]
        }
      ]
    },
    {
      "cell_type": "code",
      "source": [
        "for exponent in range(0, 32):\n",
        "    print(f\"2^{exponent} = {2 ** exponent}\")\n"
      ],
      "metadata": {
        "colab": {
          "base_uri": "https://localhost:8080/"
        },
        "id": "AHeVbvCHRMQ5",
        "outputId": "80035dfb-4e55-45d1-eeba-bc51f6fadf4f"
      },
      "execution_count": null,
      "outputs": [
        {
          "output_type": "stream",
          "name": "stdout",
          "text": [
            "2^0 = 1\n",
            "2^1 = 2\n",
            "2^2 = 4\n",
            "2^3 = 8\n",
            "2^4 = 16\n",
            "2^5 = 32\n",
            "2^6 = 64\n",
            "2^7 = 128\n",
            "2^8 = 256\n",
            "2^9 = 512\n",
            "2^10 = 1024\n",
            "2^11 = 2048\n",
            "2^12 = 4096\n",
            "2^13 = 8192\n",
            "2^14 = 16384\n",
            "2^15 = 32768\n",
            "2^16 = 65536\n",
            "2^17 = 131072\n",
            "2^18 = 262144\n",
            "2^19 = 524288\n",
            "2^20 = 1048576\n",
            "2^21 = 2097152\n",
            "2^22 = 4194304\n",
            "2^23 = 8388608\n",
            "2^24 = 16777216\n",
            "2^25 = 33554432\n",
            "2^26 = 67108864\n",
            "2^27 = 134217728\n",
            "2^28 = 268435456\n",
            "2^29 = 536870912\n",
            "2^30 = 1073741824\n",
            "2^31 = 2147483648\n"
          ]
        }
      ]
    },
    {
      "cell_type": "code",
      "source": [
        "file_path = \"/content/sequences.txt\"\n",
        "ctemps = []\n",
        "current_list = None\n",
        "\n",
        "with open(file_path, 'r') as f:\n",
        "    for line in f:\n",
        "        line = line.strip()\n",
        "        if line == '':\n",
        "            continue\n",
        "        if line.startswith('# ctemps'):\n",
        "            current_list = 'ctemps'\n",
        "            continue\n",
        "        elif line.startswith('# fruits'):\n",
        "            current_list = None\n",
        "            continue\n",
        "        if current_list == 'ctemps':\n",
        "            ctemps.append(int(line))\n",
        "\n",
        "print(\"Celsius to Fahrenheit:\")\n",
        "for c in ctemps:\n",
        "    f_temp = ((9 * c) / 5) + 32\n",
        "    print(f\"{c} Celsius = {f_temp} Fahrenheit\")\n"
      ],
      "metadata": {
        "colab": {
          "base_uri": "https://localhost:8080/"
        },
        "id": "Jh1pW6HRn4_4",
        "outputId": "ebdd446b-a399-4949-e036-4ddacc3e80c4"
      },
      "execution_count": null,
      "outputs": [
        {
          "output_type": "stream",
          "name": "stdout",
          "text": [
            "Celsius to Fahrenheit:\n",
            "0 Celsius = 32.0 Fahrenheit\n",
            "2 Celsius = 35.6 Fahrenheit\n",
            "45 Celsius = 113.0 Fahrenheit\n",
            "10 Celsius = 50.0 Fahrenheit\n",
            "-17 Celsius = 1.3999999999999986 Fahrenheit\n"
          ]
        }
      ]
    },
    {
      "cell_type": "code",
      "source": [
        "file_path = \"/content/sequences.txt\"\n",
        "fruits = []\n",
        "current_list = None\n",
        "\n",
        "with open(file_path, 'r') as f:\n",
        "    for line in f:\n",
        "        line = line.strip()\n",
        "        if line == '':\n",
        "            continue\n",
        "        if line.startswith('# fruits'):\n",
        "            current_list = 'fruits'\n",
        "            continue\n",
        "        elif line.startswith('# ctemps'):\n",
        "            current_list = None\n",
        "            continue\n",
        "        if current_list == 'fruits':\n",
        "            fruits.append(line)\n",
        "\n",
        "clean_fruits = [x.strip().lower() for x in fruits]\n",
        "print(clean_fruits)\n"
      ],
      "metadata": {
        "colab": {
          "base_uri": "https://localhost:8080/"
        },
        "id": "ETB98IKon-78",
        "outputId": "baf904d6-5646-4378-9153-981eed1a7084"
      },
      "execution_count": null,
      "outputs": [
        {
          "output_type": "stream",
          "name": "stdout",
          "text": [
            "['mango', 'cherry', 'apricot', 'apple', 'lemon', 'orange']\n"
          ]
        }
      ]
    },
    {
      "cell_type": "code",
      "source": [
        "import sys\n",
        "\n",
        "try:\n",
        "    limit = int(input(\"Enter the upper limit for finding prime numbers (default is 50): \"))\n",
        "except ValueError:\n",
        "    limit = 50\n",
        "\n",
        "is_prime = [True] * (limit + 1)\n",
        "\n",
        "for num in range(2, limit + 1):\n",
        "    if is_prime[num]:\n",
        "        print(num)\n",
        "        for multiple in range(num * 2, limit + 1, num):\n",
        "            is_prime[multiple] = False"
      ],
      "metadata": {
        "colab": {
          "base_uri": "https://localhost:8080/"
        },
        "id": "quKZUuBXS-F4",
        "outputId": "94544eaa-9c1f-4c6f-bbfa-8e0e4bfc72a3"
      },
      "execution_count": null,
      "outputs": [
        {
          "output_type": "stream",
          "name": "stdout",
          "text": [
            "Enter the upper limit for finding prime numbers (default is 50): \n",
            "2\n",
            "3\n",
            "5\n",
            "7\n",
            "11\n",
            "13\n",
            "17\n",
            "19\n",
            "23\n",
            "29\n",
            "31\n",
            "37\n",
            "41\n",
            "43\n",
            "47\n"
          ]
        }
      ]
    },
    {
      "cell_type": "code",
      "source": [
        "file_paths = [\n",
        "    \"/content/alt.txt\",\n",
        "    \"/content/bob.txt\"\n",
        "]\n",
        "\n",
        "for filename in file_paths:\n",
        "    print(filename)\n",
        "    with open(filename, 'r') as file:\n",
        "        for lineno, line in enumerate(file, start=0):\n",
        "            print(f\"{lineno}: {line.rstrip()}\")"
      ],
      "metadata": {
        "colab": {
          "base_uri": "https://localhost:8080/"
        },
        "id": "Gve56iD5hlrW",
        "outputId": "bf6084f7-81c7-4b0b-8651-a19d2e3d83a4"
      },
      "execution_count": null,
      "outputs": [
        {
          "output_type": "stream",
          "name": "stdout",
          "text": [
            "/content/alt.txt\n",
            "0: banana is yellow\n",
            "1: ant is small\n",
            "2: bat is flying\n",
            "3: ball is round\n",
            "/content/bob.txt\n",
            "0: Alice followed the rabbit down the hole and found herself falling.\n",
            "1: She tried to remember how many miles down she had fallen.\n",
            "2: Down, down, down. Would the fall never come to an end?\n",
            "3: Alice began to think she must be getting very far underground.\n",
            "4: Suddenly, thump! Down she came upon a heap of sticks and dry leaves.\n",
            "5: The fall was over at last, and she looked around in wonder.\n",
            "6: Before her was a long, low hall, lit up by a row of lamps hanging from the roof.\n"
          ]
        }
      ]
    },
    {
      "cell_type": "code",
      "source": [
        "file_path = \"/content/alt.txt\"\n",
        "file_path1 = \"/content/a.txt\"\n",
        "file_path2 = \"/content/b.txt\"\n",
        "with open(file_path, 'r') as infile:\n",
        "    with open(file_path1, 'w') as a_file, open(file_path2, 'w') as b_file:\n",
        "        for line in infile:\n",
        "            line = line.strip()\n",
        "            if line.startswith('a') or line.startswith('A'):\n",
        "                a_file.write(line + '\\n')\n",
        "            elif line.startswith('b') or line.startswith('B'):\n",
        "                b_file.write(line + '\\n')\n",
        "\n",
        "print(\"Contents of alt.txt:\")\n",
        "with open(file_path, 'r') as file:\n",
        "    print(file.read())\n",
        "\n",
        "print(\"\\nContents of a.txt:\")\n",
        "with open(file_path1, 'r') as file:\n",
        "    print(file.read())\n",
        "\n",
        "print(\"\\nContents of b.txt:\")\n",
        "with open(file_path2, 'r') as file:\n",
        "    print(file.read())\n"
      ],
      "metadata": {
        "colab": {
          "base_uri": "https://localhost:8080/"
        },
        "id": "ZjRjyzdFs9df",
        "outputId": "1b186ba1-8d3d-4190-e049-f738698c80e8"
      },
      "execution_count": null,
      "outputs": [
        {
          "output_type": "stream",
          "name": "stdout",
          "text": [
            "Contents of alt.txt:\n",
            "banana is yellow\n",
            "ant is small\n",
            "bat is flying\n",
            "ball is round\n",
            "\n",
            "Contents of a.txt:\n",
            "ant is small\n",
            "\n",
            "\n",
            "Contents of b.txt:\n",
            "banana is yellow\n",
            "bat is flying\n",
            "ball is round\n",
            "\n"
          ]
        }
      ]
    },
    {
      "cell_type": "code",
      "source": [
        "file_path = \"/content/alice.txt\"\n",
        "with open(file_path, 'r') as file:\n",
        "    count = 0\n",
        "    for line in file:\n",
        "        if 'Alice' in line:\n",
        "            count += 1\n",
        "\n",
        "print(f'The word \"Alice\" appears in {count} lines.')"
      ],
      "metadata": {
        "colab": {
          "base_uri": "https://localhost:8080/"
        },
        "id": "xU1hhnsiighN",
        "outputId": "389eabf8-e1aa-4bd5-fd30-ae1d253542d0"
      },
      "execution_count": null,
      "outputs": [
        {
          "output_type": "stream",
          "name": "stdout",
          "text": [
            "The word \"Alice\" appears in 2 lines.\n"
          ]
        }
      ]
    },
    {
      "cell_type": "code",
      "source": [
        "search_word = input(\"Enter the word to search for: \").strip().lower()\n",
        "\n",
        "file_paths = [\n",
        "    \"/content/alice.txt\",\n",
        "    \"/content/bob.txt\"\n",
        "]\n",
        "\n",
        "for filename in file_paths:\n",
        "    with open(filename, 'r') as file:\n",
        "        count = 0\n",
        "        for line in file:\n",
        "            if search_word in line.lower():\n",
        "                count += 1\n",
        "    print(f\"{filename}: {count} lines contain the word '{search_word}'\")"
      ],
      "metadata": {
        "colab": {
          "base_uri": "https://localhost:8080/"
        },
        "id": "aSeiCaqkj1m3",
        "outputId": "627e57ef-d013-43cd-dbde-eb372686da42"
      },
      "execution_count": null,
      "outputs": [
        {
          "output_type": "stream",
          "name": "stdout",
          "text": [
            "Enter the word to search for: alice\n",
            "/content/alice.txt: 3 lines contain the word 'alice'\n",
            "/content/bob.txt: 2 lines contain the word 'alice'\n"
          ]
        }
      ]
    },
    {
      "cell_type": "code",
      "source": [
        "import os\n",
        "from datetime import datetime\n",
        "\n",
        "file_paths = [\n",
        "    \"/content/alice.txt\",\n",
        "\n",
        "]\n",
        "\n",
        "for filename in file_paths:\n",
        "    mod_time = os.path.getmtime(filename)\n",
        "    dt = datetime.fromtimestamp(mod_time)\n",
        "    formatted_date = dt.strftime('%b %d, %Y')\n",
        "    print(f\"{filename}: {formatted_date}\")\n"
      ],
      "metadata": {
        "colab": {
          "base_uri": "https://localhost:8080/"
        },
        "id": "Ffx3bhrIkBCh",
        "outputId": "61cf7656-42e2-4d90-c673-73503af6012b"
      },
      "execution_count": null,
      "outputs": [
        {
          "output_type": "stream",
          "name": "stdout",
          "text": [
            "/content/alice.txt: Oct 25, 2025\n"
          ]
        }
      ]
    },
    {
      "cell_type": "code",
      "source": [
        "import os\n",
        "\n",
        "file_paths = [\n",
        "    \"/content/alice.txt\",\n",
        "    \"/content/alt.txt\",\n",
        "    \"/bin\"\n",
        "]\n",
        "\n",
        "for filename in file_paths:\n",
        "    if os.path.isdir(filename):\n",
        "        print(f\"Warning: {filename} is a directory\")\n",
        "    elif os.path.isfile(filename):\n",
        "        size = os.path.getsize(filename)\n",
        "        print(f\"{filename}: {size} bytes\")\n",
        "    else:\n",
        "        print(f\"Error: {filename} not found\")\n"
      ],
      "metadata": {
        "colab": {
          "base_uri": "https://localhost:8080/"
        },
        "id": "kAQ8ai9NkWP_",
        "outputId": "c749561b-7ac6-4498-956d-34458630f3c4"
      },
      "execution_count": null,
      "outputs": [
        {
          "output_type": "stream",
          "name": "stdout",
          "text": [
            "/content/alice.txt: 33 bytes\n",
            "/content/alt.txt: 60 bytes\n",
            "Warning: /bin is a directory\n"
          ]
        }
      ]
    },
    {
      "cell_type": "code",
      "source": [
        "import os\n",
        "\n",
        "base_dir = '/content/sample_data/Anish'\n",
        "\n",
        "total_for_count = 0\n",
        "\n",
        "for root, dirs, files in os.walk(base_dir):\n",
        "    for file in files:\n",
        "        if file.endswith('.py'):\n",
        "            file_path = os.path.join(root, file)\n",
        "            file_for_count = 0\n",
        "            with open(file_path, 'r') as f:\n",
        "                for line in f:\n",
        "                    line_strip = line.strip()\n",
        "                    if line_strip.startswith('for '):\n",
        "                        file_for_count += 1\n",
        "                        total_for_count += 1\n",
        "            print(f\"{file_path}: {file_for_count} 'for' loops\")\n",
        "\n",
        "print(f\"\\nTotal 'for' loops found: {total_for_count}\")\n"
      ],
      "metadata": {
        "id": "JBtOI9yako2H",
        "colab": {
          "base_uri": "https://localhost:8080/"
        },
        "outputId": "a01c2c43-2fff-4b51-8058-15f29d2b8df0"
      },
      "execution_count": 3,
      "outputs": [
        {
          "output_type": "stream",
          "name": "stdout",
          "text": [
            "/content/sample_data/Anish/file2.py: 1 'for' loops\n",
            "/content/sample_data/Anish/file1.py: 3 'for' loops\n",
            "\n",
            "Total 'for' loops found: 4\n"
          ]
        }
      ]
    },
    {
      "cell_type": "code",
      "source": [
        "import os\n",
        "import shutil\n",
        "\n",
        "source_dir = '/content/sample_data/Anish'\n",
        "dest_dir = '/content/sample_data/TEMP'\n",
        "\n",
        "os.makedirs(dest_dir, exist_ok=True)\n",
        "\n",
        "for filename in os.listdir(source_dir):\n",
        "    src_file = os.path.join(source_dir, filename)\n",
        "    dst_file = os.path.join(dest_dir, filename)\n",
        "    if os.path.isfile(src_file) and filename.lower().startswith('p'):\n",
        "        shutil.copy2(src_file, dst_file)\n",
        "        print(f\"Copied {filename} to TEMP\")"
      ],
      "metadata": {
        "id": "Eq8XWj5vkosM",
        "colab": {
          "base_uri": "https://localhost:8080/"
        },
        "outputId": "1b2a5525-893e-45ff-bf65-292eecd793d9"
      },
      "execution_count": 4,
      "outputs": [
        {
          "output_type": "stream",
          "name": "stdout",
          "text": [
            "Copied Pgm1.py to TEMP\n"
          ]
        }
      ]
    },
    {
      "cell_type": "code",
      "source": [
        "def get_grade(score):\n",
        "    if score >= 95:\n",
        "        return 'A'\n",
        "    elif score >= 89:\n",
        "        return 'B'\n",
        "    elif score >= 83:\n",
        "        return 'C'\n",
        "    elif score >= 75:\n",
        "        return 'D'\n",
        "    else:\n",
        "        return 'F'\n",
        "\n",
        "scores = {}\n",
        "\n",
        "file_path = \"/content/score.dat.txt\"\n",
        "with open(file_path, 'r') as f:\n",
        "    for line in f:\n",
        "        parts = line.strip().split()\n",
        "        if len(parts) == 2:\n",
        "            name, score = parts\n",
        "            scores[name] = int(score)\n",
        "\n",
        "print(\"Name\\tScore\\tGrade\")\n",
        "for name in sorted(scores.keys()):\n",
        "    score = scores[name]\n",
        "    grade = get_grade(score)\n",
        "    print(f\"{name}\\t{score}\\t{grade}\")\n",
        "\n",
        "avg_score = sum(scores.values()) / len(scores)\n",
        "print(f\"\\nAverage Score: {avg_score:.2f}\")\n"
      ],
      "metadata": {
        "colab": {
          "base_uri": "https://localhost:8080/"
        },
        "id": "1TbIKFdFnNGS",
        "outputId": "37600ec8-a964-4cde-ee0f-7a496845ec21"
      },
      "execution_count": null,
      "outputs": [
        {
          "output_type": "stream",
          "name": "stdout",
          "text": [
            "Name\tScore\tGrade\n",
            "Akash\t88\tC\n",
            "Anish\t99\tA\n",
            "atul\t66\tF\n",
            "geths\t77\tD\n",
            "pooja\t55\tF\n",
            "venkat\t44\tF\n",
            "\n",
            "Average Score: 71.50\n"
          ]
        }
      ]
    },
    {
      "cell_type": "code",
      "source": [
        "file_path = \"/content/sample_data/Paswd.txt\"\n",
        "shell_count = {}\n",
        "with open(file_path, 'r') as file:\n",
        "    for line in file:\n",
        "        line = line.strip()\n",
        "        if not line or line.startswith('#'):\n",
        "            continue\n",
        "        fields = line.split(':')\n",
        "        if len(fields) < 7:\n",
        "            continue\n",
        "        shell = fields[-1]\n",
        "        shell_count[shell] = shell_count.get(shell, 0) + 1\n",
        "\n",
        "for shell, count in shell_count.items():\n",
        "    print(f\"{shell}: {count}\")\n"
      ],
      "metadata": {
        "id": "ylh0-YZfp5-p",
        "colab": {
          "base_uri": "https://localhost:8080/"
        },
        "outputId": "86e3b10e-13e5-4c69-b659-9dc0636c6663"
      },
      "execution_count": 8,
      "outputs": [
        {
          "output_type": "stream",
          "name": "stdout",
          "text": [
            "/bin/sync: 1\n",
            "/usr/sbin/nologin: 5\n",
            "/bin/bash: 2\n",
            "/bin/zsh: 1\n",
            "/bin/sh: 1\n"
          ]
        }
      ]
    },
    {
      "cell_type": "code",
      "source": [
        "def read_fruits(filename):\n",
        "    with open(filename, 'r') as f:\n",
        "        return set(line.strip().lower() for line in f)\n",
        "\n",
        "fruits1 = read_fruits('fruit1.txt')\n",
        "fruits2 = read_fruits('fruit2.txt')\n",
        "\n",
        "common_fruits = fruits1 & fruits2\n",
        "\n",
        "print(\"Fruits in both files:\")\n",
        "for fruit in sorted(common_fruits):\n",
        "    print(fruit)"
      ],
      "metadata": {
        "colab": {
          "base_uri": "https://localhost:8080/"
        },
        "id": "PYYwq6d2nJq_",
        "outputId": "8e26e502-21d3-4037-ebb7-81a004b5c985"
      },
      "execution_count": null,
      "outputs": [
        {
          "output_type": "stream",
          "name": "stdout",
          "text": [
            "Fruits in both files:\n",
            "apple\n",
            "lime\n"
          ]
        }
      ]
    },
    {
      "cell_type": "code",
      "source": [
        "limit = 50\n",
        "non_primes = set()\n",
        "primes = []\n",
        "\n",
        "for num in range(2, limit + 1):\n",
        "    if num not in non_primes:\n",
        "        primes.append(num)\n",
        "        for multiple in range(num * 2, limit + 1, num):\n",
        "            non_primes.add(multiple)\n",
        "\n",
        "print(\"Primes up to\", limit, \":\")\n",
        "print(primes)"
      ],
      "metadata": {
        "colab": {
          "base_uri": "https://localhost:8080/"
        },
        "id": "tL9Mgi5tnEpC",
        "outputId": "8e70ad67-99e0-4080-b582-6dbcf23a92fc"
      },
      "execution_count": null,
      "outputs": [
        {
          "output_type": "stream",
          "name": "stdout",
          "text": [
            "Primes up to 50 :\n",
            "[2, 3, 5, 7, 11, 13, 17, 19, 23, 29, 31, 37, 41, 43, 47]\n"
          ]
        }
      ]
    },
    {
      "cell_type": "code",
      "source": [
        "def cleanup(s):\n",
        "    cleaned = s.strip().lower()\n",
        "    return cleaned\n",
        "\n",
        "dirty_list = [\" Apple \", \" BANANA\", \"  Cherry  \", \"MANGO  \", \"  Guava\"]\n",
        "\n",
        "print(\"Cleaned strings:\")\n",
        "for item in dirty_list:\n",
        "    result = cleanup(item)\n",
        "    print(result)"
      ],
      "metadata": {
        "id": "wJ4RvZWScXkr",
        "colab": {
          "base_uri": "https://localhost:8080/"
        },
        "outputId": "ba04e5c1-a24c-49e3-eb9b-aa9ce01aa322"
      },
      "execution_count": null,
      "outputs": [
        {
          "output_type": "stream",
          "name": "stdout",
          "text": [
            "Cleaned strings:\n",
            "apple\n",
            "banana\n",
            "cherry\n",
            "mango\n",
            "guava\n"
          ]
        }
      ]
    },
    {
      "cell_type": "code",
      "source": [
        "def c2f(c):\n",
        "    return ((9 * c) / 5) + 32\n",
        "\n",
        "print(c2f(100))\n",
        "print(c2f(0))\n",
        "print(c2f(37))\n",
        "print(c2f(-40))"
      ],
      "metadata": {
        "colab": {
          "base_uri": "https://localhost:8080/"
        },
        "id": "vv69Pe4rm_GW",
        "outputId": "646d6adc-f003-4745-b98c-e8cd3aabbefa"
      },
      "execution_count": null,
      "outputs": [
        {
          "output_type": "stream",
          "name": "stdout",
          "text": [
            "212.0\n",
            "32.0\n",
            "98.6\n",
            "-40.0\n"
          ]
        }
      ]
    },
    {
      "cell_type": "code",
      "source": [
        "def add(a, b):\n",
        "    return a + b\n",
        "\n",
        "def subtract(a, b):\n",
        "    return a - b\n",
        "\n",
        "def multiply(a, b):\n",
        "    return a * b\n",
        "\n",
        "def divide(a, b):\n",
        "    if b == 0:\n",
        "        return \"Error: Division by zero\"\n",
        "    return a / b\n",
        "\n",
        "while True:\n",
        "    expr = input(\"Enter an expression (or 'q' to quit): \").strip()\n",
        "    if expr.lower() == 'q':\n",
        "        break\n",
        "\n",
        "    parts = expr.split()\n",
        "    if len(parts) != 3:\n",
        "        print(\"Invalid format. Use: number operator number\")\n",
        "        continue\n",
        "\n",
        "    a, op, b = parts\n",
        "\n",
        "    if not (a.replace('.', '', 1).isdigit() and b.replace('.', '', 1).isdigit()):\n",
        "        print(\"Please enter valid numbers.\")\n",
        "        continue\n",
        "\n",
        "    a = float(a)\n",
        "    b = float(b)\n",
        "\n",
        "    if op == '+':\n",
        "        result = add(a, b)\n",
        "    elif op == '-':\n",
        "        result = subtract(a, b)\n",
        "    elif op == '*':\n",
        "        result = multiply(a, b)\n",
        "    elif op == '/':\n",
        "        result = divide(a, b)\n",
        "    else:\n",
        "        result = \"Invalid operator. Use +, -, *, or /.\"\n",
        "\n",
        "    print(\"Result:\", result)\n"
      ],
      "metadata": {
        "colab": {
          "base_uri": "https://localhost:8080/"
        },
        "id": "Q9cRSJ3WnBod",
        "outputId": "c5529a23-36a8-46b8-8723-bd58c70b9eda"
      },
      "execution_count": null,
      "outputs": [
        {
          "name": "stdout",
          "output_type": "stream",
          "text": [
            "Enter an expression (or 'q' to quit): 1 + 5\n",
            "Result: 6.0\n",
            "Enter an expression (or 'q' to quit): q\n"
          ]
        }
      ]
    }
  ]
}