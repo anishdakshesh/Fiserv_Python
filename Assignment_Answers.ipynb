{
  "nbformat": 4,
  "nbformat_minor": 0,
  "metadata": {
    "colab": {
      "provenance": [],
      "authorship_tag": "ABX9TyPDkABdpvF9ttRnql7lm0rc",
      "include_colab_link": true
    },
    "kernelspec": {
      "name": "python3",
      "display_name": "Python 3"
    },
    "language_info": {
      "name": "python"
    }
  },
  "cells": [
    {
      "cell_type": "markdown",
      "metadata": {
        "id": "view-in-github",
        "colab_type": "text"
      },
      "source": [
        "<a href=\"https://colab.research.google.com/github/anishdakshesh/Fiserv_Python/blob/main/Assignment_Answers.ipynb\" target=\"_parent\"><img src=\"https://colab.research.google.com/assets/colab-badge.svg\" alt=\"Open In Colab\"/></a>"
      ]
    },
    {
      "cell_type": "code",
      "execution_count": 6,
      "metadata": {
        "colab": {
          "base_uri": "https://localhost:8080/"
        },
        "id": "duaiPk_s5wjZ",
        "outputId": "43ff34a6-4a4c-46b6-de37-d2e1292f37ac"
      },
      "outputs": [
        {
          "output_type": "stream",
          "name": "stdout",
          "text": [
            "Invalid mileage:  32.13\n"
          ]
        }
      ],
      "source": [
        "# Define custom exception class\n",
        "class ValidationException(Exception):\n",
        "    pass\n",
        "\n",
        "# Define the function to validate the file\n",
        "def validate_file(filename):\n",
        "    try:\n",
        "        with open(filename, 'r') as file:\n",
        "            next(file)  # Skip header line\n",
        "            for line in file:\n",
        "                car_id, miles = line.strip().split(',')\n",
        "                car_id = car_id.strip()\n",
        "                miles = miles.strip()\n",
        "\n",
        "                # Check if miles is an integer\n",
        "                if not miles.isdigit():\n",
        "                    raise ValidationException(f\"Invalid mileage:  {miles}\")\n",
        "\n",
        "    except FileNotFoundError:\n",
        "        raise ValidationException(f\"File not found: {filename}\")\n",
        "\n",
        "# Example usage\n",
        "def ex1():\n",
        "    try:\n",
        "        validate_file(\"/content/input.txt\")\n",
        "    except ValidationException as ve:\n",
        "        print(ve)\n",
        "\n",
        "# Run example\n",
        "ex1()\n"
      ]
    },
    {
      "cell_type": "code",
      "source": [
        "import csv\n",
        "import os\n",
        "\n",
        "def find_total_visits():\n",
        "    total_visits = 0\n",
        "    filenames = [\"/content/week-1.csv\", \"/content/week-2.csv\", \"/content/week-3.csv\"]\n",
        "\n",
        "    for filename in filenames:\n",
        "        if os.path.exists(filename):\n",
        "            with open(filename, 'r') as file:\n",
        "                reader = csv.reader(file)\n",
        "                next(reader)  # Skip header\n",
        "                for row in reader:\n",
        "                    total_visits += sum(int(x.strip()) for x in row[1:])  # Sum all daily values\n",
        "\n",
        "    return total_visits\n",
        "\n",
        "def ex2():\n",
        "    total = find_total_visits()\n",
        "    print(f\"Total visits: {total}.\")\n",
        "\n",
        "# Run example\n",
        "ex2()\n"
      ],
      "metadata": {
        "colab": {
          "base_uri": "https://localhost:8080/"
        },
        "id": "3WEuK5TL8N7h",
        "outputId": "904a4ba8-05b5-40cb-ac1e-cf9873f5eec0"
      },
      "execution_count": 7,
      "outputs": [
        {
          "output_type": "stream",
          "name": "stdout",
          "text": [
            "Total visits: 21.\n"
          ]
        }
      ]
    },
    {
      "cell_type": "code",
      "source": [
        "import re\n",
        "import os\n",
        "\n",
        "def count_words(filename=\"/content/words.txt\"):\n",
        "    # Check if input file exists\n",
        "    if not os.path.exists(filename):\n",
        "        print(f\"File not found: {filename}\")\n",
        "        return 0\n",
        "\n",
        "    small_words = set()\n",
        "    large_words = set()\n",
        "\n",
        "    # Read the file\n",
        "    with open(filename, 'r') as file:\n",
        "        text = file.read()\n",
        "\n",
        "    # Extract words ignoring punctuation\n",
        "    words = re.findall(r\"\\b\\w+\\b\", text)\n",
        "\n",
        "    # Separate into small and large\n",
        "    for word in words:\n",
        "        if len(word) < 3:\n",
        "            small_words.add(word)\n",
        "        else:\n",
        "            large_words.add(word)\n",
        "\n",
        "    # Create output files automatically\n",
        "    with open(\"small-words.txt\", \"w\") as small_file:\n",
        "        for word in sorted(small_words):\n",
        "            small_file.write(word + \"\\n\")\n",
        "\n",
        "    with open(\"large-words.txt\", \"w\") as large_file:\n",
        "        for word in sorted(large_words):\n",
        "            large_file.write(word + \"\\n\")\n",
        "\n",
        "    # Return count of unique words\n",
        "    return len(small_words.union(large_words))\n",
        "\n",
        "\n",
        "# Usage example\n",
        "def ex3():\n",
        "    total_words = count_words(\"words.txt\")\n",
        "    print(f\"Total words: {total_words}.\")\n",
        "\n",
        "ex3()\n"
      ],
      "metadata": {
        "colab": {
          "base_uri": "https://localhost:8080/"
        },
        "id": "OBD_GAey89c4",
        "outputId": "6653014a-262e-4a32-cdb7-fd1162523203"
      },
      "execution_count": 8,
      "outputs": [
        {
          "output_type": "stream",
          "name": "stdout",
          "text": [
            "Total words: 16.\n"
          ]
        }
      ]
    },
    {
      "cell_type": "code",
      "metadata": {
        "colab": {
          "base_uri": "https://localhost:8080/"
        },
        "id": "3eb5b380",
        "outputId": "d2fa485e-e296-4223-fa12-a03eccc10e07"
      },
      "source": [
        "%pip install boto3"
      ],
      "execution_count": 10,
      "outputs": [
        {
          "output_type": "stream",
          "name": "stdout",
          "text": [
            "Collecting boto3\n",
            "  Downloading boto3-1.40.53-py3-none-any.whl.metadata (6.6 kB)\n",
            "Collecting botocore<1.41.0,>=1.40.53 (from boto3)\n",
            "  Downloading botocore-1.40.53-py3-none-any.whl.metadata (5.7 kB)\n",
            "Collecting jmespath<2.0.0,>=0.7.1 (from boto3)\n",
            "  Downloading jmespath-1.0.1-py3-none-any.whl.metadata (7.6 kB)\n",
            "Collecting s3transfer<0.15.0,>=0.14.0 (from boto3)\n",
            "  Downloading s3transfer-0.14.0-py3-none-any.whl.metadata (1.7 kB)\n",
            "Requirement already satisfied: python-dateutil<3.0.0,>=2.1 in /usr/local/lib/python3.12/dist-packages (from botocore<1.41.0,>=1.40.53->boto3) (2.9.0.post0)\n",
            "Requirement already satisfied: urllib3!=2.2.0,<3,>=1.25.4 in /usr/local/lib/python3.12/dist-packages (from botocore<1.41.0,>=1.40.53->boto3) (2.5.0)\n",
            "Requirement already satisfied: six>=1.5 in /usr/local/lib/python3.12/dist-packages (from python-dateutil<3.0.0,>=2.1->botocore<1.41.0,>=1.40.53->boto3) (1.17.0)\n",
            "Downloading boto3-1.40.53-py3-none-any.whl (139 kB)\n",
            "\u001b[2K   \u001b[90m━━━━━━━━━━━━━━━━━━━━━━━━━━━━━━━━━━━━━━━━\u001b[0m \u001b[32m139.3/139.3 kB\u001b[0m \u001b[31m3.6 MB/s\u001b[0m eta \u001b[36m0:00:00\u001b[0m\n",
            "\u001b[?25hDownloading botocore-1.40.53-py3-none-any.whl (14.1 MB)\n",
            "\u001b[2K   \u001b[90m━━━━━━━━━━━━━━━━━━━━━━━━━━━━━━━━━━━━━━━━\u001b[0m \u001b[32m14.1/14.1 MB\u001b[0m \u001b[31m102.1 MB/s\u001b[0m eta \u001b[36m0:00:00\u001b[0m\n",
            "\u001b[?25hDownloading jmespath-1.0.1-py3-none-any.whl (20 kB)\n",
            "Downloading s3transfer-0.14.0-py3-none-any.whl (85 kB)\n",
            "\u001b[2K   \u001b[90m━━━━━━━━━━━━━━━━━━━━━━━━━━━━━━━━━━━━━━━━\u001b[0m \u001b[32m85.7/85.7 kB\u001b[0m \u001b[31m6.1 MB/s\u001b[0m eta \u001b[36m0:00:00\u001b[0m\n",
            "\u001b[?25hInstalling collected packages: jmespath, botocore, s3transfer, boto3\n",
            "Successfully installed boto3-1.40.53 botocore-1.40.53 jmespath-1.0.1 s3transfer-0.14.0\n"
          ]
        }
      ]
    },
    {
      "cell_type": "code",
      "source": [
        "import boto3\n",
        "\n",
        "def calculate():\n",
        "    log = []\n",
        "    student_id = \"123456\"  # 🔹 Replace with your actual student ID\n",
        "    log_filename = f\"calculator-log-{student_id}.txt\"\n",
        "\n",
        "    while True:\n",
        "        first = input(\"Enter first number: \")\n",
        "        if first.lower() == 'q':\n",
        "            break\n",
        "\n",
        "        second = input(\"Enter second number: \")\n",
        "        if second.lower() == 'q':\n",
        "            break\n",
        "\n",
        "        try:\n",
        "            num1 = float(first)\n",
        "            num2 = float(second)\n",
        "            result = num1 + num2\n",
        "            print(f\"{num1} + {num2} = {result}\")\n",
        "            log.append(f\"{num1} + {num2} = {result}\")\n",
        "        except ValueError:\n",
        "            print(\"Invalid input. Please enter a number or 'q' to quit.\")\n",
        "\n",
        "    # Write log to file\n",
        "    with open(log_filename, 'w') as f:\n",
        "        for entry in log:\n",
        "            f.write(entry + \"\\n\")\n",
        "\n",
        "    # Upload to S3\n",
        "    try:\n",
        "        s3 = boto3.client('s3')\n",
        "        bucket_name = \"your-s3-bucket-name\"  # 🔹 Replace with your S3 bucket\n",
        "        s3.upload_file(log_filename, bucket_name, log_filename)\n",
        "        print(\"*** Uploaded to S3 ***\")\n",
        "    except Exception as e:\n",
        "        print(f\"Error uploading to S3: {e}\")\n",
        "\n",
        "\n",
        "# Usage example\n",
        "def ex4():\n",
        "    calculate()\n",
        "ex4()\n"
      ],
      "metadata": {
        "colab": {
          "base_uri": "https://localhost:8080/"
        },
        "id": "HWW1GNqA-w9M",
        "outputId": "b1c9cef1-2793-4082-e52e-e98fe3608a09"
      },
      "execution_count": 13,
      "outputs": [
        {
          "output_type": "stream",
          "name": "stdout",
          "text": [
            "Enter first number: 5\n",
            "Enter second number: 9\n",
            "5.0 + 9.0 = 14.0\n",
            "Enter first number: 1\n",
            "Enter second number: 2\n",
            "1.0 + 2.0 = 3.0\n",
            "Enter first number: 3\n",
            "Enter second number: 4\n",
            "3.0 + 4.0 = 7.0\n",
            "Enter first number: h\n",
            "Enter second number: g\n",
            "Invalid input. Please enter a number or 'q' to quit.\n",
            "Enter first number: q\n",
            "Error uploading to S3: Unable to locate credentials\n"
          ]
        }
      ]
    },
    {
      "cell_type": "code",
      "source": [
        "import csv\n",
        "from pprint import pprint\n",
        "\n",
        "def build_car_list():\n",
        "    car_data = []\n",
        "    cars = {}\n",
        "\n",
        "    # Step 1: Read car IDs and models\n",
        "    with open(\"/content/car-ids.txt\", 'r') as f:\n",
        "        reader = csv.reader(f)\n",
        "        for row in reader:\n",
        "            car_id = int(row[0].strip())\n",
        "            model = row[1].strip()\n",
        "            cars[car_id] = model\n",
        "\n",
        "    # Step 2: Read mileage data\n",
        "    with open(\"/content/input.txt\", 'r') as f:\n",
        "        reader = csv.reader(f)\n",
        "        next(reader)  # skip header\n",
        "        for row in reader:\n",
        "            car_id = int(row[0].strip())\n",
        "            miles_str = row[1].strip()\n",
        "            try:\n",
        "                miles = int(miles_str)\n",
        "                # Step 3: Combine valid entries\n",
        "                car_data.append({\n",
        "                    \"id\": car_id,\n",
        "                    \"miles\": miles,\n",
        "                    \"model\": cars.get(car_id, \"Unknown\")\n",
        "                })\n",
        "            except ValueError:\n",
        "                # Skip invalid mileage (like 32.13)\n",
        "                continue\n",
        "\n",
        "    return car_data\n",
        "\n",
        "\n",
        "def ex5():\n",
        "    car_list = build_car_list()\n",
        "    pprint(car_list)\n",
        "\n",
        "\n",
        "# Run example\n",
        "ex5()\n"
      ],
      "metadata": {
        "colab": {
          "base_uri": "https://localhost:8080/"
        },
        "id": "OYKZCVX5AKjx",
        "outputId": "b232bc5c-6a43-486a-8500-61b94465809f"
      },
      "execution_count": 14,
      "outputs": [
        {
          "output_type": "stream",
          "name": "stdout",
          "text": [
            "[{'id': 1, 'miles': 10111, 'model': 'Ford'},\n",
            " {'id': 2, 'miles': 30333, 'model': 'Chevy'},\n",
            " {'id': 3, 'miles': 40443, 'model': 'Toyota'},\n",
            " {'id': 5, 'miles': 60000, 'model': 'Nissan'}]\n"
          ]
        }
      ]
    }
  ]
}